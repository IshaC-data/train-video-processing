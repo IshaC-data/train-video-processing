{
  "nbformat": 4,
  "nbformat_minor": 0,
  "metadata": {
    "colab": {
      "provenance": []
    },
    "kernelspec": {
      "name": "python3",
      "display_name": "Python 3"
    },
    "language_info": {
      "name": "python"
    }
  },
  "cells": [
    {
      "cell_type": "code",
      "source": [
        "# Install libraries\n",
        "!pip install -q opencv-python-headless moviepy ultralytics reportlab pillow matplotlib\n",
        "# ffmpeg\n",
        "!apt-get -qq install -y ffmpeg\n"
      ],
      "metadata": {
        "id": "ZeZLse8KPu5f"
      },
      "execution_count": 29,
      "outputs": []
    },
    {
      "cell_type": "code",
      "source": [
        "from google.colab import drive\n",
        "import os, shutil\n",
        "\n",
        "drive.mount('/content/drive', force_remount=True)\n",
        "\n",
        "BASE_DIR = \"/content/drive/MyDrive/train_project_v2\"\n",
        "RAW_DIR = os.path.join(BASE_DIR, \"raw_video\")\n",
        "PROCESSED_DIR = os.path.join(BASE_DIR, \"processed\")\n",
        "\n",
        "os.makedirs(RAW_DIR, exist_ok=True)\n",
        "os.makedirs(PROCESSED_DIR, exist_ok=True)\n",
        "\n",
        "VIDEO_FILENAME = \"train.mp4\"\n",
        "VIDEO_PATH = os.path.join(RAW_DIR, VIDEO_FILENAME)\n",
        "TRAIN_NUMBER = \"12309\"\n",
        "print(\"Raw video path:\", VIDEO_PATH)\n",
        "print(\"Processed output path:\", PROCESSED_DIR)\n"
      ],
      "metadata": {
        "colab": {
          "base_uri": "https://localhost:8080/"
        },
        "id": "sKLOOkKUP4Lz",
        "outputId": "de9f99f3-7859-49f7-a07b-4130ee9f06c3"
      },
      "execution_count": 30,
      "outputs": [
        {
          "output_type": "stream",
          "name": "stdout",
          "text": [
            "Mounted at /content/drive\n",
            "Raw video path: /content/drive/MyDrive/train_project_v2/raw_video/train.mp4\n",
            "Processed output path: /content/drive/MyDrive/train_project_v2/processed\n"
          ]
        }
      ]
    },
    {
      "cell_type": "code",
      "source": [
        "\n",
        "import shutil\n",
        "shutil.rmtree(PROCESSED_DIR, ignore_errors=True)\n",
        "os.makedirs(PROCESSED_DIR, exist_ok=True)\n",
        "print(\"Cleaned processed folder and recreated it.\")\n"
      ],
      "metadata": {
        "colab": {
          "base_uri": "https://localhost:8080/"
        },
        "id": "s1ftu-PPP9_7",
        "outputId": "1b2a16a8-416c-4862-9217-6a738331e399"
      },
      "execution_count": 31,
      "outputs": [
        {
          "output_type": "stream",
          "name": "stdout",
          "text": [
            "Cleaned processed folder and recreated it.\n"
          ]
        }
      ]
    },
    {
      "cell_type": "code",
      "source": [
        "import cv2, numpy as np\n",
        "from tqdm import tqdm\n",
        "\n",
        "\n",
        "assert os.path.exists(VIDEO_PATH), f\"Video not found at {VIDEO_PATH}. Upload train.mp4 to RAW_DIR.\"\n",
        "\n",
        "cap = cv2.VideoCapture(VIDEO_PATH)\n",
        "fps = cap.get(cv2.CAP_PROP_FPS)\n",
        "frame_count = int(cap.get(cv2.CAP_PROP_FRAME_COUNT))\n",
        "duration = frame_count / fps\n",
        "print(f\"Video FPS: {fps:.3f}, frames: {frame_count}, duration: {duration:.2f}s\")\n",
        "\n",
        "\n",
        "SAMPLE_EVERY = 5\n",
        "roi_means = []\n",
        "idx = 0\n",
        "cap_pos = 0\n",
        "\n",
        "pbar = tqdm(total=frame_count//SAMPLE_EVERY + 1, desc=\"Sampling ROI brightness\")\n",
        "cap.set(cv2.CAP_PROP_POS_FRAMES, 0)\n",
        "while True:\n",
        "    ret, frame = cap.read()\n",
        "    if not ret:\n",
        "        break\n",
        "    idx += 1\n",
        "    if idx % SAMPLE_EVERY != 0:\n",
        "        continue\n",
        "    h, w = frame.shape[:2]\n",
        "    roi = frame[int(h*0.8):h, :]\n",
        "    gray = cv2.cvtColor(roi, cv2.COLOR_BGR2GRAY)\n",
        "    roi_means.append(np.mean(gray))\n",
        "    pbar.update(1)\n",
        "pbar.close()\n",
        "cap.release()\n",
        "\n",
        "roi_means = np.array(roi_means)\n",
        "print(\"Sampled ROI frames:\", len(roi_means))\n",
        "if len(roi_means) == 0:\n",
        "    raise RuntimeError(\"No ROI samples collected — check video or SAMPLE_EVERY value.\")\n"
      ],
      "metadata": {
        "colab": {
          "base_uri": "https://localhost:8080/"
        },
        "id": "tuGULO_NQBs6",
        "outputId": "c48a29ff-3a4b-44d2-e8c0-1593ee099396"
      },
      "execution_count": 32,
      "outputs": [
        {
          "output_type": "stream",
          "name": "stdout",
          "text": [
            "Video FPS: 24.186, frames: 2204, duration: 91.13s\n"
          ]
        },
        {
          "output_type": "stream",
          "name": "stderr",
          "text": [
            "Sampling ROI brightness: 100%|█████████▉| 440/441 [00:46<00:00,  9.38it/s]"
          ]
        },
        {
          "output_type": "stream",
          "name": "stdout",
          "text": [
            "Sampled ROI frames: 440\n"
          ]
        },
        {
          "output_type": "stream",
          "name": "stderr",
          "text": [
            "\n"
          ]
        }
      ]
    },
    {
      "cell_type": "code",
      "source": [
        "import matplotlib.pyplot as plt\n",
        "# auto threshold\n",
        "low, high = np.percentile(roi_means, [5, 95])\n",
        "AUTO_THRESHOLD = float((low + high) / 2.0)\n",
        "print(f\"ROI mean low/5%={low:.1f}, high/95%={high:.1f} -> AUTO_THRESHOLD={AUTO_THRESHOLD:.1f}\")\n",
        "\n",
        "plt.figure(figsize=(8,3))\n",
        "plt.hist(roi_means, bins=60, edgecolor='k')\n",
        "plt.axvline(AUTO_THRESHOLD, color='red', linestyle='--', label=f\"Auto thresh {AUTO_THRESHOLD:.1f}\")\n",
        "plt.title(\"ROI brightness distribution (bottom band)\")\n",
        "plt.xlabel(\"Mean brightness\")\n",
        "plt.ylabel(\"Count\")\n",
        "plt.legend()\n",
        "plt.show()\n"
      ],
      "metadata": {
        "colab": {
          "base_uri": "https://localhost:8080/",
          "height": 351
        },
        "id": "mlbUl1cLQPqJ",
        "outputId": "dcd8c4d7-53fb-4256-a6ac-c6071373d385"
      },
      "execution_count": 33,
      "outputs": [
        {
          "output_type": "stream",
          "name": "stdout",
          "text": [
            "ROI mean low/5%=60.1, high/95%=83.4 -> AUTO_THRESHOLD=71.7\n"
          ]
        },
        {
          "output_type": "display_data",
          "data": {
            "text/plain": [
              "<Figure size 800x300 with 1 Axes>"
            ],
            "image/png": "[encoded data removed]"
          },
          "metadata": {}
        }
      ]
    },
    {
      "cell_type": "code",
      "source": [
        "\n",
        "THRESHOLD = AUTO_THRESHOLD\n",
        "MIN_GAP_SECONDS = 0.9  # minimum allowed distance between detected boundaries\n",
        "\n",
        "cap = cv2.VideoCapture(VIDEO_PATH)\n",
        "boundaries = []\n",
        "prev_gap = False\n",
        "frame_idx = 0\n",
        "\n",
        "pbar = tqdm(total=frame_count, desc=\"Scanning for boundaries\")\n",
        "while True:\n",
        "    ret, frame = cap.read()\n",
        "    if not ret:\n",
        "        break\n",
        "    frame_idx += 1\n",
        "    h, w = frame.shape[:2]\n",
        "    roi = frame[int(h*0.8):h, :]\n",
        "    gray = cv2.cvtColor(roi, cv2.COLOR_BGR2GRAY)\n",
        "    mean_val = float(np.mean(gray))\n",
        "    gap = mean_val < THRESHOLD\n",
        "    if gap and not prev_gap:\n",
        "        timestamp = frame_idx / fps\n",
        "        if len(boundaries) == 0 or (timestamp - boundaries[-1]) > MIN_GAP_SECONDS:\n",
        "            boundaries.append(timestamp)\n",
        "            print(f\"Detected boundary at {timestamp:.2f}s (roi_mean={mean_val:.1f})\")\n",
        "    prev_gap = gap\n",
        "    pbar.update(1)\n",
        "pbar.close()\n",
        "cap.release()\n",
        "\n",
        "# append final end timestamp\n",
        "if len(boundaries) == 0 or boundaries[-1] < duration - 0.01:\n",
        "    boundaries.append(duration)\n",
        "\n",
        "# Build segments\n",
        "segments = []\n",
        "start = 0.0\n",
        "for b in boundaries:\n",
        "    segments.append((start, b))\n",
        "    start = b\n",
        "\n",
        "print(f\"Detected {len(segments)} segments (boundaries: {len(boundaries)})\")\n",
        "\n"
      ],
      "metadata": {
        "colab": {
          "base_uri": "https://localhost:8080/"
        },
        "id": "Q35rTmlPQePu",
        "outputId": "50ff9f49-2096-4101-aaa7-fa1be55d439e"
      },
      "execution_count": 34,
      "outputs": [
        {
          "output_type": "stream",
          "name": "stderr",
          "text": [
            "Scanning for boundaries:   3%|▎         | 72/2204 [00:01<00:59, 35.73it/s]"
          ]
        },
        {
          "output_type": "stream",
          "name": "stdout",
          "text": [
            "Detected boundary at 2.73s (roi_mean=65.3)\n"
          ]
        },
        {
          "output_type": "stream",
          "name": "stderr",
          "text": [
            "Scanning for boundaries:   5%|▌         | 111/2204 [00:02<00:42, 49.08it/s]"
          ]
        },
        {
          "output_type": "stream",
          "name": "stdout",
          "text": [
            "Detected boundary at 4.05s (roi_mean=71.7)\n"
          ]
        },
        {
          "output_type": "stream",
          "name": "stderr",
          "text": [
            "Scanning for boundaries:   6%|▌         | 135/2204 [00:02<00:39, 52.41it/s]"
          ]
        },
        {
          "output_type": "stream",
          "name": "stdout",
          "text": [
            "Detected boundary at 5.29s (roi_mean=69.5)\n"
          ]
        },
        {
          "output_type": "stream",
          "name": "stderr",
          "text": [
            "Scanning for boundaries:   8%|▊         | 171/2204 [00:03<00:31, 64.42it/s]"
          ]
        },
        {
          "output_type": "stream",
          "name": "stdout",
          "text": [
            "Detected boundary at 6.62s (roi_mean=71.3)\n"
          ]
        },
        {
          "output_type": "stream",
          "name": "stderr",
          "text": [
            "Scanning for boundaries:  10%|█         | 231/2204 [00:04<00:35, 55.51it/s]"
          ]
        },
        {
          "output_type": "stream",
          "name": "stdout",
          "text": [
            "Detected boundary at 9.30s (roi_mean=67.5)\n"
          ]
        },
        {
          "output_type": "stream",
          "name": "stderr",
          "text": [
            "Scanning for boundaries:  12%|█▏        | 267/2204 [00:05<00:38, 50.95it/s]"
          ]
        },
        {
          "output_type": "stream",
          "name": "stdout",
          "text": [
            "Detected boundary at 10.83s (roi_mean=68.9)\n"
          ]
        },
        {
          "output_type": "stream",
          "name": "stderr",
          "text": [
            "Scanning for boundaries:  13%|█▎        | 296/2204 [00:05<00:36, 51.75it/s]"
          ]
        },
        {
          "output_type": "stream",
          "name": "stdout",
          "text": [
            "Detected boundary at 11.83s (roi_mean=70.2)\n"
          ]
        },
        {
          "output_type": "stream",
          "name": "stderr",
          "text": [
            "Scanning for boundaries:  16%|█▌        | 343/2204 [00:06<00:37, 49.72it/s]"
          ]
        },
        {
          "output_type": "stream",
          "name": "stdout",
          "text": [
            "Detected boundary at 13.85s (roi_mean=69.7)\n"
          ]
        },
        {
          "output_type": "stream",
          "name": "stderr",
          "text": [
            "Scanning for boundaries:  17%|█▋        | 367/2204 [00:07<00:35, 51.15it/s]"
          ]
        },
        {
          "output_type": "stream",
          "name": "stdout",
          "text": [
            "Detected boundary at 14.88s (roi_mean=68.2)\n"
          ]
        },
        {
          "output_type": "stream",
          "name": "stderr",
          "text": [
            "Scanning for boundaries:  19%|█▉        | 416/2204 [00:08<00:34, 52.18it/s]"
          ]
        },
        {
          "output_type": "stream",
          "name": "stdout",
          "text": [
            "Detected boundary at 16.91s (roi_mean=70.3)\n"
          ]
        },
        {
          "output_type": "stream",
          "name": "stderr",
          "text": [
            "Scanning for boundaries:  21%|██        | 458/2204 [00:08<00:33, 51.74it/s]"
          ]
        },
        {
          "output_type": "stream",
          "name": "stdout",
          "text": [
            "Detected boundary at 18.48s (roi_mean=68.8)\n"
          ]
        },
        {
          "output_type": "stream",
          "name": "stderr",
          "text": [
            "Scanning for boundaries:  22%|██▏       | 476/2204 [00:09<00:31, 55.52it/s]"
          ]
        },
        {
          "output_type": "stream",
          "name": "stdout",
          "text": [
            "Detected boundary at 19.43s (roi_mean=70.9)\n"
          ]
        },
        {
          "output_type": "stream",
          "name": "stderr",
          "text": [
            "Scanning for boundaries:  24%|██▍       | 526/2204 [00:10<00:31, 52.77it/s]"
          ]
        },
        {
          "output_type": "stream",
          "name": "stdout",
          "text": [
            "Detected boundary at 21.42s (roi_mean=70.4)\n"
          ]
        },
        {
          "output_type": "stream",
          "name": "stderr",
          "text": [
            "Scanning for boundaries:  25%|██▌       | 556/2204 [00:10<00:33, 49.64it/s]"
          ]
        },
        {
          "output_type": "stream",
          "name": "stdout",
          "text": [
            "Detected boundary at 22.82s (roi_mean=71.2)\n"
          ]
        },
        {
          "output_type": "stream",
          "name": "stderr",
          "text": [
            "Scanning for boundaries:  27%|██▋       | 603/2204 [00:11<00:31, 50.17it/s]"
          ]
        },
        {
          "output_type": "stream",
          "name": "stdout",
          "text": [
            "Detected boundary at 24.60s (roi_mean=66.9)\n"
          ]
        },
        {
          "output_type": "stream",
          "name": "stderr",
          "text": [
            "Scanning for boundaries:  29%|██▉       | 634/2204 [00:12<00:31, 49.83it/s]"
          ]
        },
        {
          "output_type": "stream",
          "name": "stdout",
          "text": [
            "Detected boundary at 26.09s (roi_mean=71.5)\n"
          ]
        },
        {
          "output_type": "stream",
          "name": "stderr",
          "text": [
            "Scanning for boundaries:  30%|███       | 670/2204 [00:13<00:46, 33.08it/s]"
          ]
        },
        {
          "output_type": "stream",
          "name": "stdout",
          "text": [
            "Detected boundary at 27.58s (roi_mean=66.6)\n"
          ]
        },
        {
          "output_type": "stream",
          "name": "stderr",
          "text": [
            "Scanning for boundaries:  32%|███▏      | 703/2204 [00:14<00:47, 31.44it/s]"
          ]
        },
        {
          "output_type": "stream",
          "name": "stdout",
          "text": [
            "Detected boundary at 28.82s (roi_mean=71.5)\n"
          ]
        },
        {
          "output_type": "stream",
          "name": "stderr",
          "text": [
            "Scanning for boundaries:  34%|███▍      | 756/2204 [00:16<00:44, 32.35it/s]"
          ]
        },
        {
          "output_type": "stream",
          "name": "stdout",
          "text": [
            "Detected boundary at 30.97s (roi_mean=69.0)\n"
          ]
        },
        {
          "output_type": "stream",
          "name": "stderr",
          "text": [
            "Scanning for boundaries:  35%|███▌      | 776/2204 [00:16<00:43, 33.09it/s]"
          ]
        },
        {
          "output_type": "stream",
          "name": "stdout",
          "text": [
            "Detected boundary at 31.92s (roi_mean=70.3)\n"
          ]
        },
        {
          "output_type": "stream",
          "name": "stderr",
          "text": [
            "Scanning for boundaries:  37%|███▋      | 823/2204 [00:17<00:27, 50.27it/s]"
          ]
        },
        {
          "output_type": "stream",
          "name": "stdout",
          "text": [
            "Detected boundary at 33.78s (roi_mean=67.1)\n"
          ]
        },
        {
          "output_type": "stream",
          "name": "stderr",
          "text": [
            "Scanning for boundaries:  38%|███▊      | 848/2204 [00:18<00:26, 50.74it/s]"
          ]
        },
        {
          "output_type": "stream",
          "name": "stdout",
          "text": [
            "Detected boundary at 34.81s (roi_mean=70.4)\n"
          ]
        },
        {
          "output_type": "stream",
          "name": "stderr",
          "text": [
            "Scanning for boundaries:  41%|████      | 896/2204 [00:19<00:25, 51.54it/s]"
          ]
        },
        {
          "output_type": "stream",
          "name": "stdout",
          "text": [
            "Detected boundary at 36.80s (roi_mean=71.3)\n"
          ]
        },
        {
          "output_type": "stream",
          "name": "stderr",
          "text": [
            "Scanning for boundaries:  43%|████▎     | 945/2204 [00:20<00:23, 53.70it/s]"
          ]
        },
        {
          "output_type": "stream",
          "name": "stdout",
          "text": [
            "Detected boundary at 38.78s (roi_mean=70.4)\n"
          ]
        },
        {
          "output_type": "stream",
          "name": "stderr",
          "text": [
            "Scanning for boundaries:  44%|████▍     | 974/2204 [00:20<00:24, 50.51it/s]"
          ]
        },
        {
          "output_type": "stream",
          "name": "stdout",
          "text": [
            "Detected boundary at 39.90s (roi_mean=70.9)\n"
          ]
        },
        {
          "output_type": "stream",
          "name": "stderr",
          "text": [
            "Scanning for boundaries:  46%|████▌     | 1005/2204 [00:21<00:24, 48.94it/s]"
          ]
        },
        {
          "output_type": "stream",
          "name": "stdout",
          "text": [
            "Detected boundary at 41.39s (roi_mean=68.8)\n"
          ]
        },
        {
          "output_type": "stream",
          "name": "stderr",
          "text": [
            "Scanning for boundaries:  47%|████▋     | 1043/2204 [00:22<00:23, 48.40it/s]"
          ]
        },
        {
          "output_type": "stream",
          "name": "stdout",
          "text": [
            "Detected boundary at 42.92s (roi_mean=69.6)\n"
          ]
        },
        {
          "output_type": "stream",
          "name": "stderr",
          "text": [
            "Scanning for boundaries:  49%|████▉     | 1083/2204 [00:23<00:21, 51.98it/s]"
          ]
        },
        {
          "output_type": "stream",
          "name": "stdout",
          "text": [
            "Detected boundary at 44.41s (roi_mean=69.6)\n"
          ]
        },
        {
          "output_type": "stream",
          "name": "stderr",
          "text": [
            "Scanning for boundaries:  51%|█████     | 1119/2204 [00:23<00:21, 50.67it/s]"
          ]
        },
        {
          "output_type": "stream",
          "name": "stdout",
          "text": [
            "Detected boundary at 45.98s (roi_mean=65.2)\n"
          ]
        },
        {
          "output_type": "stream",
          "name": "stderr",
          "text": [
            "Scanning for boundaries:  52%|█████▏    | 1156/2204 [00:24<00:19, 53.70it/s]"
          ]
        },
        {
          "output_type": "stream",
          "name": "stdout",
          "text": [
            "Detected boundary at 47.42s (roi_mean=69.5)\n"
          ]
        },
        {
          "output_type": "stream",
          "name": "stderr",
          "text": [
            "Scanning for boundaries:  54%|█████▍    | 1192/2204 [00:25<00:19, 52.25it/s]"
          ]
        },
        {
          "output_type": "stream",
          "name": "stdout",
          "text": [
            "Detected boundary at 48.87s (roi_mean=69.0)\n"
          ]
        },
        {
          "output_type": "stream",
          "name": "stderr",
          "text": [
            "Scanning for boundaries:  56%|█████▌    | 1228/2204 [00:25<00:18, 51.62it/s]"
          ]
        },
        {
          "output_type": "stream",
          "name": "stdout",
          "text": [
            "Detected boundary at 50.40s (roi_mean=64.7)\n"
          ]
        },
        {
          "output_type": "stream",
          "name": "stderr",
          "text": [
            "Scanning for boundaries:  57%|█████▋    | 1252/2204 [00:26<00:18, 52.71it/s]"
          ]
        },
        {
          "output_type": "stream",
          "name": "stdout",
          "text": [
            "Detected boundary at 51.44s (roi_mean=71.5)\n"
          ]
        },
        {
          "output_type": "stream",
          "name": "stderr",
          "text": [
            "Scanning for boundaries:  58%|█████▊    | 1277/2204 [00:26<00:17, 53.97it/s]"
          ]
        },
        {
          "output_type": "stream",
          "name": "stdout",
          "text": [
            "Detected boundary at 52.47s (roi_mean=71.7)\n"
          ]
        },
        {
          "output_type": "stream",
          "name": "stderr",
          "text": [
            "Scanning for boundaries:  60%|██████    | 1329/2204 [00:27<00:24, 36.37it/s]"
          ]
        },
        {
          "output_type": "stream",
          "name": "stdout",
          "text": [
            "Detected boundary at 54.83s (roi_mean=70.1)\n"
          ]
        },
        {
          "output_type": "stream",
          "name": "stderr",
          "text": [
            "Scanning for boundaries:  62%|██████▏   | 1369/2204 [00:29<00:25, 33.03it/s]"
          ]
        },
        {
          "output_type": "stream",
          "name": "stdout",
          "text": [
            "Detected boundary at 56.36s (roi_mean=70.1)\n"
          ]
        },
        {
          "output_type": "stream",
          "name": "stderr",
          "text": [
            "Scanning for boundaries:  64%|██████▎   | 1405/2204 [00:30<00:25, 31.28it/s]"
          ]
        },
        {
          "output_type": "stream",
          "name": "stdout",
          "text": [
            "Detected boundary at 57.89s (roi_mean=69.8)\n"
          ]
        },
        {
          "output_type": "stream",
          "name": "stderr",
          "text": [
            "Scanning for boundaries:  65%|██████▍   | 1426/2204 [00:31<00:27, 27.94it/s]"
          ]
        },
        {
          "output_type": "stream",
          "name": "stdout",
          "text": [
            "Detected boundary at 58.79s (roi_mean=70.9)\n"
          ]
        },
        {
          "output_type": "stream",
          "name": "stderr",
          "text": [
            "Scanning for boundaries:  67%|██████▋   | 1484/2204 [00:32<00:15, 45.05it/s]"
          ]
        },
        {
          "output_type": "stream",
          "name": "stdout",
          "text": [
            "Detected boundary at 61.07s (roi_mean=70.7)\n"
          ]
        },
        {
          "output_type": "stream",
          "name": "stderr",
          "text": [
            "Scanning for boundaries:  69%|██████▊   | 1511/2204 [00:33<00:14, 48.03it/s]"
          ]
        },
        {
          "output_type": "stream",
          "name": "stdout",
          "text": [
            "Detected boundary at 62.23s (roi_mean=71.6)\n"
          ]
        },
        {
          "output_type": "stream",
          "name": "stderr",
          "text": [
            "Scanning for boundaries:  72%|███████▏  | 1589/2204 [00:34<00:12, 48.40it/s]"
          ]
        },
        {
          "output_type": "stream",
          "name": "stdout",
          "text": [
            "Detected boundary at 65.45s (roi_mean=68.5)\n"
          ]
        },
        {
          "output_type": "stream",
          "name": "stderr",
          "text": [
            "Scanning for boundaries:  73%|███████▎  | 1619/2204 [00:35<00:11, 51.74it/s]"
          ]
        },
        {
          "output_type": "stream",
          "name": "stdout",
          "text": [
            "Detected boundary at 66.49s (roi_mean=71.1)\n"
          ]
        },
        {
          "output_type": "stream",
          "name": "stderr",
          "text": [
            "Scanning for boundaries:  75%|███████▌  | 1661/2204 [00:36<00:10, 51.86it/s]"
          ]
        },
        {
          "output_type": "stream",
          "name": "stdout",
          "text": [
            "Detected boundary at 68.30s (roi_mean=71.6)\n"
          ]
        },
        {
          "output_type": "stream",
          "name": "stderr",
          "text": [
            "Scanning for boundaries:  77%|███████▋  | 1699/2204 [00:36<00:10, 49.01it/s]"
          ]
        },
        {
          "output_type": "stream",
          "name": "stdout",
          "text": [
            "Detected boundary at 69.92s (roi_mean=71.4)\n"
          ]
        },
        {
          "output_type": "stream",
          "name": "stderr",
          "text": [
            "Scanning for boundaries:  79%|███████▉  | 1738/2204 [00:37<00:09, 50.71it/s]"
          ]
        },
        {
          "output_type": "stream",
          "name": "stdout",
          "text": [
            "Detected boundary at 71.53s (roi_mean=70.5)\n"
          ]
        },
        {
          "output_type": "stream",
          "name": "stderr",
          "text": [
            "Scanning for boundaries:  82%|████████▏ | 1813/2204 [00:39<00:07, 51.69it/s]"
          ]
        },
        {
          "output_type": "stream",
          "name": "stdout",
          "text": [
            "Detected boundary at 74.59s (roi_mean=69.8)\n"
          ]
        },
        {
          "output_type": "stream",
          "name": "stderr",
          "text": [
            "Scanning for boundaries:  84%|████████▍ | 1851/2204 [00:39<00:06, 51.93it/s]"
          ]
        },
        {
          "output_type": "stream",
          "name": "stdout",
          "text": [
            "Detected boundary at 76.12s (roi_mean=69.2)\n"
          ]
        },
        {
          "output_type": "stream",
          "name": "stderr",
          "text": [
            "Scanning for boundaries:  86%|████████▌ | 1899/2204 [00:40<00:05, 51.38it/s]"
          ]
        },
        {
          "output_type": "stream",
          "name": "stdout",
          "text": [
            "Detected boundary at 78.10s (roi_mean=70.0)\n"
          ]
        },
        {
          "output_type": "stream",
          "name": "stderr",
          "text": [
            "Scanning for boundaries:  87%|████████▋ | 1923/2204 [00:41<00:05, 52.77it/s]"
          ]
        },
        {
          "output_type": "stream",
          "name": "stdout",
          "text": [
            "Detected boundary at 79.14s (roi_mean=66.5)\n"
          ]
        },
        {
          "output_type": "stream",
          "name": "stderr",
          "text": [
            "Scanning for boundaries:  88%|████████▊ | 1947/2204 [00:41<00:05, 50.80it/s]"
          ]
        },
        {
          "output_type": "stream",
          "name": "stdout",
          "text": [
            "Detected boundary at 80.17s (roi_mean=69.9)\n"
          ]
        },
        {
          "output_type": "stream",
          "name": "stderr",
          "text": [
            "Scanning for boundaries:  89%|████████▉ | 1963/2204 [00:42<00:06, 39.81it/s]"
          ]
        },
        {
          "output_type": "stream",
          "name": "stdout",
          "text": [
            "Detected boundary at 81.08s (roi_mean=68.5)\n"
          ]
        },
        {
          "output_type": "stream",
          "name": "stderr",
          "text": [
            "Scanning for boundaries:  90%|█████████ | 1986/2204 [00:43<00:12, 17.72it/s]"
          ]
        },
        {
          "output_type": "stream",
          "name": "stdout",
          "text": [
            "Detected boundary at 82.07s (roi_mean=69.5)\n"
          ]
        },
        {
          "output_type": "stream",
          "name": "stderr",
          "text": [
            "Scanning for boundaries:  93%|█████████▎| 2040/2204 [00:47<00:06, 24.15it/s]"
          ]
        },
        {
          "output_type": "stream",
          "name": "stdout",
          "text": [
            "Detected boundary at 84.22s (roi_mean=68.9)\n"
          ]
        },
        {
          "output_type": "stream",
          "name": "stderr",
          "text": [
            "Scanning for boundaries:  94%|█████████▍| 2078/2204 [00:48<00:02, 47.43it/s]"
          ]
        },
        {
          "output_type": "stream",
          "name": "stdout",
          "text": [
            "Detected boundary at 85.71s (roi_mean=71.5)\n"
          ]
        },
        {
          "output_type": "stream",
          "name": "stderr",
          "text": [
            "Scanning for boundaries:  96%|█████████▌| 2106/2204 [00:48<00:01, 52.94it/s]"
          ]
        },
        {
          "output_type": "stream",
          "name": "stdout",
          "text": [
            "Detected boundary at 86.83s (roi_mean=65.3)\n"
          ]
        },
        {
          "output_type": "stream",
          "name": "stderr",
          "text": [
            "Scanning for boundaries: 100%|██████████| 2204/2204 [00:50<00:00, 43.60it/s]"
          ]
        },
        {
          "output_type": "stream",
          "name": "stdout",
          "text": [
            "Detected 56 segments (boundaries: 56)\n"
          ]
        },
        {
          "output_type": "stream",
          "name": "stderr",
          "text": [
            "\n"
          ]
        }
      ]
    },
    {
      "cell_type": "code",
      "source": [
        "labels = []\n",
        "for i in range(1, len(segments)+1):\n",
        "    if i <= 2:\n",
        "        lbl = f\"{TRAIN_NUMBER}_engine_{i}\"\n",
        "    elif i == len(segments):\n",
        "        lbl = f\"{TRAIN_NUMBER}_brakevan_1\"\n",
        "    else:\n",
        "        lbl = f\"{TRAIN_NUMBER}_coach_{i-2}\"\n",
        "    labels.append(lbl)\n",
        "\n",
        "print(\"Labels count:\", len(labels))\n",
        "print(\"Sample start labels:\", labels[:6])\n",
        "print(\"Sample end labels:\", labels[-4:])\n"
      ],
      "metadata": {
        "colab": {
          "base_uri": "https://localhost:8080/"
        },
        "id": "PgAutMhIQthF",
        "outputId": "3ae979b7-5fd6-430d-d5f2-7eb27c6abf88"
      },
      "execution_count": 35,
      "outputs": [
        {
          "output_type": "stream",
          "name": "stdout",
          "text": [
            "Labels count: 56\n",
            "Sample start labels: ['12309_engine_1', '12309_engine_2', '12309_coach_1', '12309_coach_2', '12309_coach_3', '12309_coach_4']\n",
            "Sample end labels: ['12309_coach_51', '12309_coach_52', '12309_coach_53', '12309_brakevan_1']\n"
          ]
        }
      ]
    },
    {
      "cell_type": "code",
      "source": [
        "import subprocess, os\n",
        "\n",
        "def fast_cut(video_path, start, end, out_file):\n",
        "    # -ss and -to after -i for accuracy; -c copy to avoid re-encoding.\n",
        "    cmd = [\n",
        "        \"ffmpeg\", \"-y\", \"-i\", video_path,\n",
        "        \"-ss\", f\"{start:.3f}\", \"-to\", f\"{end:.3f}\",\n",
        "        \"-c\", \"copy\", out_file\n",
        "    ]\n",
        "    try:\n",
        "        subprocess.run(cmd, stdout=subprocess.DEVNULL, stderr=subprocess.DEVNULL, check=True)\n",
        "        return os.path.exists(out_file)\n",
        "    except Exception as e:\n",
        "        print(\"ffmpeg cut failed:\", e)\n",
        "        return False\n",
        "\n",
        "\n",
        "SAVE_SEGMENTS = True\n",
        "\n",
        "if SAVE_SEGMENTS:\n",
        "    print(\"Saving segments to processed folders (fast copy mode)...\")\n",
        "    for idx, (s,e) in enumerate(segments, 1):\n",
        "        folder = os.path.join(PROCESSED_DIR, f\"{TRAIN_NUMBER}_{idx}\")\n",
        "        os.makedirs(folder, exist_ok=True)\n",
        "        out_file = os.path.join(folder, f\"{TRAIN_NUMBER}_{idx}.mp4\")\n",
        "        if os.path.exists(out_file):\n",
        "            print(f\"Segment {idx} already exists, skipping.\")\n",
        "            continue\n",
        "        ok = fast_cut(VIDEO_PATH, s, e, out_file)\n",
        "        print(f\"Saved {idx}: {ok}  ({s:.2f} - {e:.2f}s)\")\n",
        "else:\n",
        "    print(\"Skipping saving segment mp4 files (set SAVE_SEGMENTS = True to enable).\")\n"
      ],
      "metadata": {
        "colab": {
          "base_uri": "https://localhost:8080/"
        },
        "id": "KoGLZn4DQ_A3",
        "outputId": "1fc24c27-6124-4bd9-d33d-ad6d1525b402"
      },
      "execution_count": 36,
      "outputs": [
        {
          "output_type": "stream",
          "name": "stdout",
          "text": [
            "Saving segments to processed folders (fast copy mode)...\n",
            "Saved 1: True  (0.00 - 2.73s)\n",
            "Saved 2: True  (2.73 - 4.05s)\n",
            "Saved 3: True  (4.05 - 5.29s)\n",
            "Saved 4: True  (5.29 - 6.62s)\n",
            "Saved 5: True  (6.62 - 9.30s)\n",
            "Saved 6: True  (9.30 - 10.83s)\n",
            "Saved 7: True  (10.83 - 11.83s)\n",
            "Saved 8: True  (11.83 - 13.85s)\n",
            "Saved 9: True  (13.85 - 14.88s)\n",
            "Saved 10: True  (14.88 - 16.91s)\n",
            "Saved 11: True  (16.91 - 18.48s)\n",
            "Saved 12: True  (18.48 - 19.43s)\n",
            "Saved 13: True  (19.43 - 21.42s)\n",
            "Saved 14: True  (21.42 - 22.82s)\n",
            "Saved 15: True  (22.82 - 24.60s)\n",
            "Saved 16: True  (24.60 - 26.09s)\n",
            "Saved 17: True  (26.09 - 27.58s)\n",
            "Saved 18: True  (27.58 - 28.82s)\n",
            "Saved 19: True  (28.82 - 30.97s)\n",
            "Saved 20: True  (30.97 - 31.92s)\n",
            "Saved 21: True  (31.92 - 33.78s)\n",
            "Saved 22: True  (33.78 - 34.81s)\n",
            "Saved 23: True  (34.81 - 36.80s)\n",
            "Saved 24: True  (36.80 - 38.78s)\n",
            "Saved 25: True  (38.78 - 39.90s)\n",
            "Saved 26: True  (39.90 - 41.39s)\n",
            "Saved 27: True  (41.39 - 42.92s)\n",
            "Saved 28: True  (42.92 - 44.41s)\n",
            "Saved 29: True  (44.41 - 45.98s)\n",
            "Saved 30: True  (45.98 - 47.42s)\n",
            "Saved 31: True  (47.42 - 48.87s)\n",
            "Saved 32: True  (48.87 - 50.40s)\n",
            "Saved 33: True  (50.40 - 51.44s)\n",
            "Saved 34: True  (51.44 - 52.47s)\n",
            "Saved 35: True  (52.47 - 54.83s)\n",
            "Saved 36: True  (54.83 - 56.36s)\n",
            "Saved 37: True  (56.36 - 57.89s)\n",
            "Saved 38: True  (57.89 - 58.79s)\n",
            "Saved 39: True  (58.79 - 61.07s)\n",
            "Saved 40: True  (61.07 - 62.23s)\n",
            "Saved 41: True  (62.23 - 65.45s)\n",
            "Saved 42: True  (65.45 - 66.49s)\n",
            "Saved 43: True  (66.49 - 68.30s)\n",
            "Saved 44: True  (68.30 - 69.92s)\n",
            "Saved 45: True  (69.92 - 71.53s)\n",
            "Saved 46: True  (71.53 - 74.59s)\n",
            "Saved 47: True  (74.59 - 76.12s)\n",
            "Saved 48: True  (76.12 - 78.10s)\n",
            "Saved 49: True  (78.10 - 79.14s)\n",
            "Saved 50: True  (79.14 - 80.17s)\n",
            "Saved 51: True  (80.17 - 81.08s)\n",
            "Saved 52: True  (81.08 - 82.07s)\n",
            "Saved 53: True  (82.07 - 84.22s)\n",
            "Saved 54: True  (84.22 - 85.71s)\n",
            "Saved 55: True  (85.71 - 86.83s)\n",
            "Saved 56: True  (86.83 - 91.13s)\n"
          ]
        }
      ]
    },
    {
      "cell_type": "code",
      "source": [
        "import cv2, math\n",
        "\n",
        "def extract_frames_from_segment(video_path, start, end, label, out_folder, num_images=3):\n",
        "    os.makedirs(out_folder, exist_ok=True)\n",
        "    cap = cv2.VideoCapture(video_path)\n",
        "    fps = cap.get(cv2.CAP_PROP_FPS)\n",
        "    start_f = int(start * fps)\n",
        "    end_f = int(end * fps)\n",
        "    total = max(1, end_f - start_f)\n",
        "    step = max(1, total // num_images)\n",
        "    saved = []\n",
        "    for i in range(start_f, end_f, step):\n",
        "        cap.set(cv2.CAP_PROP_POS_FRAMES, i)\n",
        "        ret, frame = cap.read()\n",
        "        if not ret:\n",
        "            continue\n",
        "        fname = os.path.join(out_folder, f\"{label}_{i}.jpg\")\n",
        "        cv2.imwrite(fname, frame)\n",
        "        saved.append(fname)\n",
        "        if len(saved) >= num_images:\n",
        "            break\n",
        "    cap.release()\n",
        "    return saved\n",
        "\n",
        "coverage_images = []\n",
        "for idx, ((s,e), lbl) in enumerate(zip(segments, labels), 1):\n",
        "\n",
        "    seg_folder = os.path.join(PROCESSED_DIR, f\"{TRAIN_NUMBER}_{idx}\")\n",
        "    frames_folder = os.path.join(seg_folder, \"frames\")\n",
        "    imgs = extract_frames_from_segment(VIDEO_PATH, s, e, lbl, frames_folder, num_images=3)\n",
        "    coverage_images.append((lbl, imgs))\n",
        "    print(f\"{lbl}: extracted {len(imgs)} frames -> {frames_folder}\")\n"
      ],
      "metadata": {
        "colab": {
          "base_uri": "https://localhost:8080/"
        },
        "id": "E5a-rn3eRa49",
        "outputId": "726d130a-7236-42e1-8de9-96464ea65eb6"
      },
      "execution_count": 37,
      "outputs": [
        {
          "output_type": "stream",
          "name": "stdout",
          "text": [
            "12309_engine_1: extracted 3 frames -> /content/drive/MyDrive/train_project_v2/processed/12309_1/frames\n",
            "12309_engine_2: extracted 3 frames -> /content/drive/MyDrive/train_project_v2/processed/12309_2/frames\n",
            "12309_coach_1: extracted 3 frames -> /content/drive/MyDrive/train_project_v2/processed/12309_3/frames\n",
            "12309_coach_2: extracted 3 frames -> /content/drive/MyDrive/train_project_v2/processed/12309_4/frames\n",
            "12309_coach_3: extracted 3 frames -> /content/drive/MyDrive/train_project_v2/processed/12309_5/frames\n",
            "12309_coach_4: extracted 3 frames -> /content/drive/MyDrive/train_project_v2/processed/12309_6/frames\n",
            "12309_coach_5: extracted 3 frames -> /content/drive/MyDrive/train_project_v2/processed/12309_7/frames\n",
            "12309_coach_6: extracted 3 frames -> /content/drive/MyDrive/train_project_v2/processed/12309_8/frames\n",
            "12309_coach_7: extracted 3 frames -> /content/drive/MyDrive/train_project_v2/processed/12309_9/frames\n",
            "12309_coach_8: extracted 3 frames -> /content/drive/MyDrive/train_project_v2/processed/12309_10/frames\n",
            "12309_coach_9: extracted 3 frames -> /content/drive/MyDrive/train_project_v2/processed/12309_11/frames\n",
            "12309_coach_10: extracted 3 frames -> /content/drive/MyDrive/train_project_v2/processed/12309_12/frames\n",
            "12309_coach_11: extracted 3 frames -> /content/drive/MyDrive/train_project_v2/processed/12309_13/frames\n",
            "12309_coach_12: extracted 3 frames -> /content/drive/MyDrive/train_project_v2/processed/12309_14/frames\n",
            "12309_coach_13: extracted 3 frames -> /content/drive/MyDrive/train_project_v2/processed/12309_15/frames\n",
            "12309_coach_14: extracted 3 frames -> /content/drive/MyDrive/train_project_v2/processed/12309_16/frames\n",
            "12309_coach_15: extracted 3 frames -> /content/drive/MyDrive/train_project_v2/processed/12309_17/frames\n",
            "12309_coach_16: extracted 3 frames -> /content/drive/MyDrive/train_project_v2/processed/12309_18/frames\n",
            "12309_coach_17: extracted 3 frames -> /content/drive/MyDrive/train_project_v2/processed/12309_19/frames\n",
            "12309_coach_18: extracted 3 frames -> /content/drive/MyDrive/train_project_v2/processed/12309_20/frames\n",
            "12309_coach_19: extracted 3 frames -> /content/drive/MyDrive/train_project_v2/processed/12309_21/frames\n",
            "12309_coach_20: extracted 3 frames -> /content/drive/MyDrive/train_project_v2/processed/12309_22/frames\n",
            "12309_coach_21: extracted 3 frames -> /content/drive/MyDrive/train_project_v2/processed/12309_23/frames\n",
            "12309_coach_22: extracted 3 frames -> /content/drive/MyDrive/train_project_v2/processed/12309_24/frames\n",
            "12309_coach_23: extracted 3 frames -> /content/drive/MyDrive/train_project_v2/processed/12309_25/frames\n",
            "12309_coach_24: extracted 3 frames -> /content/drive/MyDrive/train_project_v2/processed/12309_26/frames\n",
            "12309_coach_25: extracted 3 frames -> /content/drive/MyDrive/train_project_v2/processed/12309_27/frames\n",
            "12309_coach_26: extracted 3 frames -> /content/drive/MyDrive/train_project_v2/processed/12309_28/frames\n",
            "12309_coach_27: extracted 3 frames -> /content/drive/MyDrive/train_project_v2/processed/12309_29/frames\n",
            "12309_coach_28: extracted 3 frames -> /content/drive/MyDrive/train_project_v2/processed/12309_30/frames\n",
            "12309_coach_29: extracted 3 frames -> /content/drive/MyDrive/train_project_v2/processed/12309_31/frames\n",
            "12309_coach_30: extracted 3 frames -> /content/drive/MyDrive/train_project_v2/processed/12309_32/frames\n",
            "12309_coach_31: extracted 3 frames -> /content/drive/MyDrive/train_project_v2/processed/12309_33/frames\n",
            "12309_coach_32: extracted 3 frames -> /content/drive/MyDrive/train_project_v2/processed/12309_34/frames\n",
            "12309_coach_33: extracted 3 frames -> /content/drive/MyDrive/train_project_v2/processed/12309_35/frames\n",
            "12309_coach_34: extracted 3 frames -> /content/drive/MyDrive/train_project_v2/processed/12309_36/frames\n",
            "12309_coach_35: extracted 3 frames -> /content/drive/MyDrive/train_project_v2/processed/12309_37/frames\n",
            "12309_coach_36: extracted 3 frames -> /content/drive/MyDrive/train_project_v2/processed/12309_38/frames\n",
            "12309_coach_37: extracted 3 frames -> /content/drive/MyDrive/train_project_v2/processed/12309_39/frames\n",
            "12309_coach_38: extracted 3 frames -> /content/drive/MyDrive/train_project_v2/processed/12309_40/frames\n",
            "12309_coach_39: extracted 3 frames -> /content/drive/MyDrive/train_project_v2/processed/12309_41/frames\n",
            "12309_coach_40: extracted 3 frames -> /content/drive/MyDrive/train_project_v2/processed/12309_42/frames\n",
            "12309_coach_41: extracted 3 frames -> /content/drive/MyDrive/train_project_v2/processed/12309_43/frames\n",
            "12309_coach_42: extracted 3 frames -> /content/drive/MyDrive/train_project_v2/processed/12309_44/frames\n",
            "12309_coach_43: extracted 3 frames -> /content/drive/MyDrive/train_project_v2/processed/12309_45/frames\n",
            "12309_coach_44: extracted 3 frames -> /content/drive/MyDrive/train_project_v2/processed/12309_46/frames\n",
            "12309_coach_45: extracted 3 frames -> /content/drive/MyDrive/train_project_v2/processed/12309_47/frames\n",
            "12309_coach_46: extracted 3 frames -> /content/drive/MyDrive/train_project_v2/processed/12309_48/frames\n",
            "12309_coach_47: extracted 3 frames -> /content/drive/MyDrive/train_project_v2/processed/12309_49/frames\n",
            "12309_coach_48: extracted 3 frames -> /content/drive/MyDrive/train_project_v2/processed/12309_50/frames\n",
            "12309_coach_49: extracted 3 frames -> /content/drive/MyDrive/train_project_v2/processed/12309_51/frames\n",
            "12309_coach_50: extracted 3 frames -> /content/drive/MyDrive/train_project_v2/processed/12309_52/frames\n",
            "12309_coach_51: extracted 3 frames -> /content/drive/MyDrive/train_project_v2/processed/12309_53/frames\n",
            "12309_coach_52: extracted 3 frames -> /content/drive/MyDrive/train_project_v2/processed/12309_54/frames\n",
            "12309_coach_53: extracted 3 frames -> /content/drive/MyDrive/train_project_v2/processed/12309_55/frames\n",
            "12309_brakevan_1: extracted 3 frames -> /content/drive/MyDrive/train_project_v2/processed/12309_56/frames\n"
          ]
        }
      ]
    },
    {
      "cell_type": "code",
      "source": [
        "annotated_summary = {}\n",
        "for i, (lbl, imgs) in enumerate(coverage_images, 1):\n",
        "    seg_folder = os.path.join(PROCESSED_DIR, f\"{TRAIN_NUMBER}_{i}\")\n",
        "    ann_folder = os.path.join(seg_folder, \"annotated_final\")\n",
        "    os.makedirs(ann_folder, exist_ok=True)\n",
        "\n",
        "    total_doors = 0\n",
        "    open_doors = 0\n",
        "    ann_files = []\n",
        "\n",
        "    for img_path in imgs:\n",
        "        img = cv2.imread(img_path)\n",
        "        if img is None:\n",
        "            continue\n",
        "\n",
        "        # Detect doors only for engines\n",
        "        dets = []\n",
        "        if \"engine\" in lbl.lower():\n",
        "            dets = detect_doors_in_image(img)\n",
        "\n",
        "        for d in dets:\n",
        "            x1,y1,x2,y2 = d['bbox']\n",
        "            lab = d['label']\n",
        "            color = (0,255,0) if lab==\"door_closed\" else (0,0,255)\n",
        "            cv2.rectangle(img, (x1,y1), (x2,y2), color, 2)\n",
        "            cv2.putText(img, lab, (x1, max(15,y1-6)), cv2.FONT_HERSHEY_SIMPLEX, 0.5, color, 1, cv2.LINE_AA)\n",
        "            total_doors += 1\n",
        "            if lab == \"door_open\":\n",
        "                open_doors += 1\n",
        "\n",
        "        ann_name = os.path.join(ann_folder, \"annot_\" + os.path.basename(img_path))\n",
        "        cv2.imwrite(ann_name, img)\n",
        "        ann_files.append(ann_name)\n",
        "\n",
        "    annotated_summary[lbl] = {\n",
        "        \"annotated_images\": ann_files,\n",
        "        \"door_count\": total_doors,\n",
        "        \"door_open_count\": open_doors,\n",
        "        \"original_images\": imgs\n",
        "    }\n",
        "\n",
        "    print(f\"{lbl}: doors={total_doors}, open={open_doors}, imgs={len(imgs)}\")\n"
      ],
      "metadata": {
        "colab": {
          "base_uri": "https://localhost:8080/"
        },
        "id": "s8HK5z2-Ym_O",
        "outputId": "124ef002-8613-43e9-c132-c078f6555ec6"
      },
      "execution_count": 42,
      "outputs": [
        {
          "output_type": "stream",
          "name": "stdout",
          "text": [
            "12309_engine_1: doors=8, open=8, imgs=3\n",
            "12309_engine_2: doors=4, open=2, imgs=3\n",
            "12309_coach_1: doors=0, open=0, imgs=3\n",
            "12309_coach_2: doors=0, open=0, imgs=3\n",
            "12309_coach_3: doors=0, open=0, imgs=3\n",
            "12309_coach_4: doors=0, open=0, imgs=3\n",
            "12309_coach_5: doors=0, open=0, imgs=3\n",
            "12309_coach_6: doors=0, open=0, imgs=3\n",
            "12309_coach_7: doors=0, open=0, imgs=3\n",
            "12309_coach_8: doors=0, open=0, imgs=3\n",
            "12309_coach_9: doors=0, open=0, imgs=3\n",
            "12309_coach_10: doors=0, open=0, imgs=3\n",
            "12309_coach_11: doors=0, open=0, imgs=3\n",
            "12309_coach_12: doors=0, open=0, imgs=3\n",
            "12309_coach_13: doors=0, open=0, imgs=3\n",
            "12309_coach_14: doors=0, open=0, imgs=3\n",
            "12309_coach_15: doors=0, open=0, imgs=3\n",
            "12309_coach_16: doors=0, open=0, imgs=3\n",
            "12309_coach_17: doors=0, open=0, imgs=3\n",
            "12309_coach_18: doors=0, open=0, imgs=3\n",
            "12309_coach_19: doors=0, open=0, imgs=3\n",
            "12309_coach_20: doors=0, open=0, imgs=3\n",
            "12309_coach_21: doors=0, open=0, imgs=3\n",
            "12309_coach_22: doors=0, open=0, imgs=3\n",
            "12309_coach_23: doors=0, open=0, imgs=3\n",
            "12309_coach_24: doors=0, open=0, imgs=3\n",
            "12309_coach_25: doors=0, open=0, imgs=3\n",
            "12309_coach_26: doors=0, open=0, imgs=3\n",
            "12309_coach_27: doors=0, open=0, imgs=3\n",
            "12309_coach_28: doors=0, open=0, imgs=3\n",
            "12309_coach_29: doors=0, open=0, imgs=3\n",
            "12309_coach_30: doors=0, open=0, imgs=3\n",
            "12309_coach_31: doors=0, open=0, imgs=3\n",
            "12309_coach_32: doors=0, open=0, imgs=3\n",
            "12309_coach_33: doors=0, open=0, imgs=3\n",
            "12309_coach_34: doors=0, open=0, imgs=3\n",
            "12309_coach_35: doors=0, open=0, imgs=3\n",
            "12309_coach_36: doors=0, open=0, imgs=3\n",
            "12309_coach_37: doors=0, open=0, imgs=3\n",
            "12309_coach_38: doors=0, open=0, imgs=3\n",
            "12309_coach_39: doors=0, open=0, imgs=3\n",
            "12309_coach_40: doors=0, open=0, imgs=3\n",
            "12309_coach_41: doors=0, open=0, imgs=3\n",
            "12309_coach_42: doors=0, open=0, imgs=3\n",
            "12309_coach_43: doors=0, open=0, imgs=3\n",
            "12309_coach_44: doors=0, open=0, imgs=3\n",
            "12309_coach_45: doors=0, open=0, imgs=3\n",
            "12309_coach_46: doors=0, open=0, imgs=3\n",
            "12309_coach_47: doors=0, open=0, imgs=3\n",
            "12309_coach_48: doors=0, open=0, imgs=3\n",
            "12309_coach_49: doors=0, open=0, imgs=3\n",
            "12309_coach_50: doors=0, open=0, imgs=3\n",
            "12309_coach_51: doors=0, open=0, imgs=3\n",
            "12309_coach_52: doors=0, open=0, imgs=3\n",
            "12309_coach_53: doors=0, open=0, imgs=3\n",
            "12309_brakevan_1: doors=0, open=0, imgs=3\n"
          ]
        }
      ]
    },
    {
      "cell_type": "code",
      "source": [
        "from reportlab.platypus import SimpleDocTemplate, Paragraph, Spacer, Image, Table, TableStyle, PageBreak\n",
        "from reportlab.lib.styles import getSampleStyleSheet\n",
        "from reportlab.lib import colors\n",
        "\n",
        "report_path = os.path.join(PROCESSED_DIR, f\"{TRAIN_NUMBER}_final_report.pdf\")\n",
        "doc = SimpleDocTemplate(report_path)\n",
        "styles = getSampleStyleSheet()\n",
        "story = []\n",
        "\n",
        "story.append(Paragraph(\"Train Coverage Report\", styles[\"Title\"]))\n",
        "story.append(Spacer(1, 20))\n",
        "story.append(Paragraph(f\"Train Number: {TRAIN_NUMBER}\", styles[\"Heading2\"]))\n",
        "story.append(Spacer(1, 20))\n",
        "\n",
        "num_engines = sum(1 for l in labels if \"engine\" in l)\n",
        "num_brakevans = sum(1 for l in labels if \"brakevan\" in l)\n",
        "num_coaches = sum(1 for l in labels if \"coach\" in l)\n",
        "total_segments = len(labels)\n",
        "\n",
        "summary_data = [\n",
        "    [\"Category\", \"Count\", \"Details\"],\n",
        "    [\"Engines\", num_engines, \"Front locomotives (with door analysis)\"],\n",
        "    [\"Coaches\", num_coaches, \"Transfer wagons (no doors)\"],\n",
        "    [\"Brakevans\", num_brakevans, \"End of train (no doors)\"],\n",
        "    [\"Total Segments\", total_segments, f\"{total_segments} units detected\"]\n",
        "]\n",
        "\n",
        "table = Table(summary_data, colWidths=[120,80,250])\n",
        "table.setStyle(TableStyle([\n",
        "    (\"BACKGROUND\",(0,0),(-1,0), colors.lightgrey),\n",
        "    (\"ALIGN\",(0,0),(-1,-1),\"CENTER\"),\n",
        "    (\"GRID\",(0,0),(-1,-1),0.5,colors.grey),\n",
        "    (\"FONTNAME\",(0,0),(-1,0),\"Helvetica-Bold\")\n",
        "]))\n",
        "story.append(table)\n",
        "story.append(Spacer(1, 30))\n",
        "story.append(PageBreak())\n",
        "\n",
        "\n",
        "for lbl in labels:\n",
        "    info = annotated_summary.get(lbl, None)\n",
        "    if info is None:\n",
        "        continue\n",
        "\n",
        "    doors = info.get(\"door_count\", 0)\n",
        "    open_doors = info.get(\"door_open_count\", 0)\n",
        "\n",
        "    story.append(Paragraph(lbl, styles[\"Heading2\"]))\n",
        "    if \"engine\" in lbl.lower():\n",
        "        story.append(Paragraph(f\"Detected doors: {doors}, Doors open: {open_doors}\", styles[\"Normal\"]))\n",
        "    else:\n",
        "        story.append(Paragraph(\"No doors detected for this coach/wagon.\", styles[\"Normal\"]))\n",
        "    story.append(Spacer(1, 10))\n",
        "\n",
        "    # add annotated images\n",
        "    for ann in info['annotated_images']:\n",
        "        try:\n",
        "            story.append(Image(ann, width=400, height=200))\n",
        "            story.append(Spacer(1, 8))\n",
        "        except Exception as e:\n",
        "            print(\"Skipping image:\", ann, e)\n",
        "\n",
        "    story.append(PageBreak())\n",
        "\n",
        "doc.build(story)\n",
        "print(\"✅ Final report generated at:\", report_path)\n"
      ],
      "metadata": {
        "colab": {
          "base_uri": "https://localhost:8080/"
        },
        "id": "_FHeiPegZOgW",
        "outputId": "4013a477-2230-4bdb-b13a-6988c0f47665"
      },
      "execution_count": 43,
      "outputs": [
        {
          "output_type": "stream",
          "name": "stdout",
          "text": [
            "✅ Final report generated at: /content/drive/MyDrive/train_project_v2/processed/12309_final_report.pdf\n"
          ]
        }
      ]
    }
  ]
}